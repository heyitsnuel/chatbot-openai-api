{
  "cells": [
    {
      "cell_type": "code",
      "execution_count": 1,
      "metadata": {
        "id": "r-wcT7JAvN7C"
      },
      "outputs": [],
      "source": [
        "from openai import OpenAI"
      ]
    },
    {
      "cell_type": "code",
      "execution_count": null,
      "metadata": {
        "id": "mRfZKZVjvW3B"
      },
      "outputs": [],
      "source": [
        "# Define the model to use\n",
        "model = \"gpt-3.5-turbo\"\n",
        "\n",
        "# Define the client\n",
        "client = OpenAI(api_key=\"YOUR-OWN-API-SECRET-KEY\")  # Replace with the secret key that you created"
      ]
    },
    {
      "cell_type": "code",
      "execution_count": null,
      "metadata": {
        "id": "0B41IV29vfmL"
      },
      "outputs": [],
      "source": [
        "# Set the system role to initialize the chatbot profile\n",
        "messages = [{\"role\": \"system\", \"content\": \"You are a knowledgable and helpful tourist guide in Bali.\"}]\n",
        "user_msgs = [\"How far away is the Ubud from the Bali airport if you are driving?\", \"Where is the Garuda Wisnu Kencana?\", \"Where is the best place to stay in Bali?\"]"
      ]
    },
    {
      "cell_type": "code",
      "execution_count": null,
      "metadata": {
        "colab": {
          "base_uri": "https://localhost:8080/"
        },
        "id": "eXSpdZY1vcu2",
        "outputId": "752d0154-dcbb-4528-e5b3-8052ed293b69"
      },
      "outputs": [
        {
          "name": "stdout",
          "output_type": "stream",
          "text": [
            "User:  How far away is the Ubud from the Bali airport if you are driving?\n",
            "Assistant:  The distance between Bali's Ngurah Rai International Airport and Ubud is approximately 37 kilometers (23 miles) if you are driving. The journey usually takes around 1 to 1.5 hours, depending on traffic conditions. It is recommended to plan your transportation in advance to ensure a smooth and comfortable journey to Ubud. \n",
            "\n",
            "User:  Where is the Garuda Wisnu Kencana?\n",
            "Assistant:  Garuda Wisnu Kencana (GWK) is located in the southern part of Bali, specifically in the Ungasan area in the Badung Regency. It is situated on a limestone hilltop overlooking the Indian Ocean, offering stunning views of the surrounding area. GWK is a cultural park that features the iconic Garuda Wisnu Kencana statue, which is one of the tallest statues in the world. The park also includes various cultural performances, exhibitions, and dining options for visitors to \n",
            "\n",
            "User:  Where is the best place to stay in Bali?\n",
            "Assistant:  Bali offers a wide range of accommodation options to suit different preferences and budgets. The best place to stay in Bali depends on what you are looking for in your vacation. Here are some popular areas to consider:\n",
            "\n",
            "1. Ubud: Known for its lush rice terraces, art galleries, and cultural attractions, Ubud is a great choice for those seeking a peaceful and spiritual retreat.\n",
            "\n",
            "2. Seminyak: If you are looking for a vibrant nightlife scene, upscale dining options, and trendy beach \n",
            "\n"
          ]
        }
      ],
      "source": [
        "for q in user_msgs:\n",
        "    print(\"User: \", q)\n",
        "\n",
        "    # Create a dictionary for the user message from q and append to messages\n",
        "    user_dict = {\"role\": \"user\", \"content\": q}\n",
        "    messages.append(user_dict)\n",
        "\n",
        "    # Create the API request using chat completions\n",
        "    response = client.chat.completions.create(\n",
        "        model=model,\n",
        "        messages=messages,\n",
        "        max_tokens=100, # The maximum number of tokens to use in the input and output\n",
        "        temperature=0.0 # Ranging from 0 to 2, lower means the response will be more deterministic, higher means more random\n",
        "    )\n",
        "\n",
        "    # Convert the assistant's message to a dict and append to messages to enable in-context learning\n",
        "    assistant_dict = {\"role\": \"assistant\", \"content\": response.choices[0].message.content}\n",
        "    messages.append(assistant_dict)\n",
        "    print(\"Assistant: \", response.choices[0].message.content, \"\\n\")"
      ]
    }
  ],
  "metadata": {
    "colab": {
      "provenance": []
    },
    "kernelspec": {
      "display_name": "Python 3",
      "name": "python3"
    },
    "language_info": {
      "name": "python"
    }
  },
  "nbformat": 4,
  "nbformat_minor": 0
}
